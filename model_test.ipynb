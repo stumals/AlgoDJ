{
 "cells": [
  {
   "cell_type": "code",
   "execution_count": 1,
   "metadata": {},
   "outputs": [],
   "source": [
    "import pandas as pd\n",
    "from model.model_cosine_similarity import SongRecommender\n",
    "from data.dataset import LoadData\n",
    "from model.model_cosine_similarity import SongRecommender, artist_network"
   ]
  },
  {
   "cell_type": "code",
   "execution_count": 2,
   "metadata": {},
   "outputs": [
    {
     "name": "stdout",
     "output_type": "stream",
     "text": [
      "CPU times: total: 15.2 s\n",
      "Wall time: 15.8 s\n"
     ]
    }
   ],
   "source": [
    "%%time\n",
    "df_raw = LoadData().get_data()"
   ]
  },
  {
   "cell_type": "code",
   "execution_count": 3,
   "metadata": {},
   "outputs": [
    {
     "name": "stdout",
     "output_type": "stream",
     "text": [
      "CPU times: total: 1.19 s\n",
      "Wall time: 1.23 s\n"
     ]
    }
   ],
   "source": [
    "%%time\n",
    "song = 'She Belongs to Me'\n",
    "p = SongRecommender(df_raw, song)\n",
    "playlist, df_new = p.recommender()"
   ]
  },
  {
   "cell_type": "code",
   "execution_count": 4,
   "metadata": {},
   "outputs": [
    {
     "name": "stdout",
     "output_type": "stream",
     "text": [
      "CPU times: total: 11.3 s\n",
      "Wall time: 11.7 s\n"
     ]
    },
    {
     "data": {
      "text/plain": [
       "DegreeView({'Bob Dylan': 16, 'Jayme Dawicki': 11, 'Donna Burke': 11, 'Lehmanski': 9, 'Steve Bell': 9, 'Woody Guthrie': 12, 'Oscar Brand and the Souses': 7, 'The Bluegrass Band': 9, 'Nazz': 10, 'Chris Isaak': 3, \"Barbara Cook'\": 3, \" 'Theodore Bikel\": 3, 'Alan Bibey & Grasstowne': 3, 'Annette Hanshaw': 3, 'Seals and Crofts': 3, \"The Boomers'\": 1, \" 'Ian Thomas'\": 1, \" 'Bill Dillon'\": 1, \" 'Peter Cardinali'\": 1, \" 'Rick Gratton\": 1, 'Jack Scott': 1, 'The Country Gentlemen': 1, 'Houston Jones': 3, 'Martin Devaney': 1, 'Cedric Jingo': 3, 'Mo Stroemel': 3, 'Steven Brust': 1, 'Annie Sellick': 2, 'Gloria Lynne': 1, 'Dennis Stroughmatt': 2, 'Front Porch String Band': 1, 'Peter Karp': 2, 'Misty River': 1, \"Joaquín Rodrigo'\": 1, \" 'Eva León'\": 1, \" 'Virginia Luque\": 1, 'Robbie Tucker': 1, 'Al Jarreau': 1, 'Janie Fricke': 1, '(+) Comfort': 1, 'Amanda Miguel': 1, 'City': 1})"
      ]
     },
     "execution_count": 4,
     "metadata": {},
     "output_type": "execute_result"
    }
   ],
   "source": [
    "%%time\n",
    "graph = artist_network(df_new, playlist, limit=10)\n",
    "graph.degree"
   ]
  },
  {
   "cell_type": "code",
   "execution_count": 5,
   "metadata": {},
   "outputs": [
    {
     "name": "stdout",
     "output_type": "stream",
     "text": [
      "CPU times: total: 23.5 s\n",
      "Wall time: 23.9 s\n"
     ]
    },
    {
     "data": {
      "text/plain": [
       "DegreeView({'Bob Dylan': 16, 'Jayme Dawicki': 11, 'Donna Burke': 11, 'Lehmanski': 9, 'Steve Bell': 10, 'Woody Guthrie': 13, 'Oscar Brand and the Souses': 7, 'The Bluegrass Band': 10, 'Nazz': 11, 'Chris Isaak': 12, \"Barbara Cook'\": 10, \" 'Theodore Bikel\": 5, 'Alan Bibey & Grasstowne': 5, 'Annette Hanshaw': 4, 'Seals and Crofts': 4, \"The Boomers'\": 13, \" 'Ian Thomas'\": 2, \" 'Bill Dillon'\": 2, \" 'Peter Cardinali'\": 2, \" 'Rick Gratton\": 2, 'Jack Scott': 12, 'The Country Gentlemen': 8, 'Houston Jones': 4, 'Martin Devaney': 2, 'Cedric Jingo': 3, 'Mo Stroemel': 4, 'Steven Brust': 1, 'Annie Sellick': 2, 'Gloria Lynne': 1, 'Dennis Stroughmatt': 2, 'Front Porch String Band': 1, 'Peter Karp': 3, 'Misty River': 1, \"Joaquín Rodrigo'\": 2, \" 'Eva León'\": 2, \" 'Virginia Luque\": 2, 'Robbie Tucker': 1, 'Al Jarreau': 3, 'Janie Fricke': 1, '(+) Comfort': 2, 'Amanda Miguel': 1, 'City': 1, 'Ali Ghamsari': 1, 'Gillian Welch': 1, 'The Peasall Sisters': 1, 'Tony Hightower': 1, 'Cher': 1, 'Calvin Jackson and Mississippi Bound': 1, 'D.D Dumbo': 1, 'Barnes & Barnes': 1, 'The Chi-Lites': 1, 'Charlotte Park Rangers': 1, \"Eric Harding'\": 1, \" 'Michael Lambert'\": 1, \" 'Frank Lozano'\": 1, \" 'Ron Seguin\": 1, 'The Jazz Butcher Conspiracy': 1, 'The Firesign Theatre': 1, 'The Flaming Lips': 1, 'Steve Forbert': 1})"
      ]
     },
     "execution_count": 5,
     "metadata": {},
     "output_type": "execute_result"
    }
   ],
   "source": [
    "%%time\n",
    "graph = artist_network(df_new, playlist, limit=20)\n",
    "graph.degree"
   ]
  },
  {
   "cell_type": "code",
   "execution_count": 6,
   "metadata": {},
   "outputs": [
    {
     "name": "stdout",
     "output_type": "stream",
     "text": [
      "CPU times: total: 3.39 s\n",
      "Wall time: 3.42 s\n"
     ]
    }
   ],
   "source": [
    "%%time\n",
    "song = 'She Belongs to Me'\n",
    "p = SongRecommender(df_raw, song, gender='male', age=20)\n",
    "playlist, df_new = p.recommender()"
   ]
  },
  {
   "cell_type": "code",
   "execution_count": 7,
   "metadata": {},
   "outputs": [
    {
     "name": "stdout",
     "output_type": "stream",
     "text": [
      "CPU times: total: 27.6 s\n",
      "Wall time: 28.2 s\n"
     ]
    },
    {
     "data": {
      "text/plain": [
       "DegreeView({'Bob Dylan': 11, 'Jayme Dawicki': 10, 'Mark Kozelek': 10, 'Nazz': 9, 'Donna Burke': 9, 'Lehmanski': 8, 'Woody Guthrie': 13, 'Steve Bell': 10, 'The Bluegrass Band': 9, 'Oscar Brand and the Souses': 7, 'Chris Isaak': 11, 'Annette Hanshaw': 4, 'Peter Karp': 4, 'Robbie Tucker': 3, 'Martin Devaney': 3, 'Barbara Lusch': 9, 'John Pizzarelli': 16, 'Joe Blessett': 10, 'Ann Hampton Callaway': 9, 'Pentangle': 3, 'Dolly Parton': 2, 'Kristin Korb': 3, 'Little Junior Parker': 3, 'Eugene Ruffolo': 2, 'Houston Jones': 2, '(+) Comfort': 1, 'City': 1, 'Jack Scott': 1, 'Cedric Jingo': 4, 'Steven Brust': 2, 'Annie Sellick': 2, 'Dennis Stroughmatt': 3, \"Joaquín Rodrigo'\": 2, \" 'Eva León'\": 2, \" 'Virginia Luque\": 2, \"Adam Agee'\": 1, \" 'Jon Sousa\": 1, 'Front Porch String Band': 2, 'Misty River': 1, 'The Country Gentlemen': 1, 'Al Jarreau': 1, 'Janie Fricke': 1, 'Ali Ghamsari': 1, 'Mark Austin': 1, 'The Peasall Sisters': 1, 'The Gifted Children': 2, 'Rose Polenzani': 1, '\"John O\\'Gallagher\"': 2, 'Mountain Home': 1, 'Byzantine Music of the Greek Orthodox Church': 1, \"Ann Hampton Callaway'\": 1, \" 'The Gotham City Gates'\": 1, \" 'Jonathan Smith'\": 1, \" 'Laura Benanti'\": 1, \" 'Michael Gruber'\": 1, \" 'Everett Bradley'\": 1, \" 'Casey MacGill\": 1, 'Illinois Jacquet': 1, 'Bukka White': 1, 'Jeffrey Martin': 1, \"Steel Pier Orchestra'\": 1, \" 'David Loud\": 1, 'Five Point Plan': 1, 'LEA': 1, 'Eyal Vilner': 1, '\"Weird Al\" Yankovic': 1, 'Gal Costa': 1, 'David Arkenstone': 1})"
      ]
     },
     "execution_count": 7,
     "metadata": {},
     "output_type": "execute_result"
    }
   ],
   "source": [
    "%%time\n",
    "graph = artist_network(df_new, playlist, limit=20)\n",
    "graph.degree"
   ]
  },
  {
   "cell_type": "code",
   "execution_count": 8,
   "metadata": {},
   "outputs": [
    {
     "name": "stdout",
     "output_type": "stream",
     "text": [
      "CPU times: total: 1.16 s\n",
      "Wall time: 1.2 s\n"
     ]
    }
   ],
   "source": [
    "%%time\n",
    "song = 'She Belongs to Me'\n",
    "p = SongRecommender(df_raw, song, gender='female', age=40)\n",
    "playlist, df_new = p.recommender()"
   ]
  },
  {
   "cell_type": "code",
   "execution_count": 9,
   "metadata": {},
   "outputs": [
    {
     "name": "stdout",
     "output_type": "stream",
     "text": [
      "CPU times: total: 4.55 s\n",
      "Wall time: 4.66 s\n"
     ]
    },
    {
     "data": {
      "text/plain": [
       "DegreeView({'Bob Dylan': 11, 'Steven Brust': 14, 'Robbie Dupree': 11, 'Big Jack Johnson & The Oilers': 17, \"Giovanni Battista Sammartini'\": 13, \" 'Capella Istropolitana\": 2, \"Elly & Rikkert'\": 13, \" 'In de ruimte kinder- en tienerkoor\": 4, 'Mighty Purple': 10, 'Tammy Wynette': 13, 'Patty Larkin': 14, 'Mary Chapin Carpenter': 13, \"Nick Munro'\": 12, \" 'Roger Whittaker\": 2, '\"\\'Til Tuesday\"': 13, 'Guy Clark': 10, 'Old Blind Dogs': 9, 'Stefan Stoppok': 2, 'King Harvest': 2, 'Karla Bonoff': 3, 'New Riders of the Purple Sage': 3, 'Lefty Frizzell': 3, 'Bobbie McGee': 14, \"Patti Cathcart'\": 12, \" 'Tuck Andress\": 2, 'Janice Borla': 20, 'America': 5, 'Ennio Morricone': 1, 'The Barra MacNeils': 1, 'Corey Harris': 3, 'Cory Cullinan': 1, \"Magic Sam'\": 2, \" 'Mighty Joe Young'\": 2, \" 'Stockholm Slim'\": 2, \" 'Earnest Johnson'\": 2, \" 'Odie Payne\": 2, ' Jr.': 2, '\"Mustard\\'s Retreat\"': 1, 'Ricky Van Shelton': 2, '\"Josef Gung\\'l\"': 1, \" 'Frederick Fennell'\": 1, \" 'Empire Brass\": 1, 'The Mountain Goats': 1, \"Gordon Langford'\": 1, \" 'Traditional'\": 1, \" 'The Fairey Band'\": 1, \" 'Kenneth Dennison\": 1, 'The Bluegrass Band': 1, 'Conrad Herwig': 1, 'Natalie MacMaster': 1, 'George Benson': 1, 'The Kinks': 1, 'Jack Scott': 1, \"Porter Wagoner'\": 3, \" 'Dolly Parton\": 3, 'Spade Cooley & His Orchestra; vocal by Tex Williams': 2, 'Finley Quaye': 2, \"Sentridoh'\": 3, \" 'Lou Barlow\": 3, 'John Lee Williamson': 2, 'Grupo Niche': 3, 'Monty Harper': 2, 'Bruce Channel': 1, 'Gene Vincent': 2, 'Jonathan Edwards': 3, 'Cliff Eberhardt': 1, 'Bruce Springsteen': 1, 'Jerry Reed': 1, 'Lisa Monet': 1, \"The Stanley Brothers'\": 1, \" 'The Clinch Mountain Boys\": 1, \"Georg Philipp Telemann'\": 1, \" 'Collegium Musicum 90'\": 1, \" 'Simon Standage\": 1, 'Little Jack Melody': 1, 'Torfrock': 1, 'John Williams': 1, 'Alan Lomax': 1, 'Ray Bonneville': 1, 'Dr. Hook': 2, 'Clinton Fearon': 1, \"James Lord Pierpont'\": 1, \" 'José Carreras\": 1, 'Francie Byrne': 1, 'Tower Of Power': 2, 'Fred Ho': 1, 'Big Audio Dynamite': 1, 'Só Pra Contrariar': 1, \"Georges Bizet'\": 1, \" 'Philadelphia Orchestra'\": 1, \" 'Eugene Ormandy\": 1, 'Philippe Lavil': 1, \"Marty Stuart'\": 1, \" 'Curly Seckler'\": 1, \" 'The Nashville Grass\": 1, 'Peter Maffay': 1, 'Asleep At The Wheel': 1, 'The Free Design': 1, 'Dolly Parton': 1, 'Sara K.': 1, 'The Intergalactic Maidenballet': 1, 'Annie Gallup': 1, 'Otis Rush': 1, 'Con Cassidy': 2, 'Heart': 1, 'Van Halen': 1, 'Shalamar': 1, 'Doc Severinsen': 1, 'The Rankin Family': 1, 'Shawn Colvin': 1, 'Radiohead': 1, \"Ute Lemper'\": 2, \" 'Meg Johnson\": 2, 'The Brain Surgeons': 1, 'Dent': 2, \"Antonio Vivaldi'\": 1, \" 'Purcell Quartet\": 1, 'Amanda Miguel': 1, \"Otto Nicolai'\": 1, \" 'Edith Mathis'\": 1, \" 'Kurt Moll'\": 1, \" 'Hanna Schwarz'\": 1, \" 'Bernd Weikl'\": 1, \" 'Siegfried Vogel'\": 1, \" 'Staatskapelle Berlin'\": 1, \" 'Karl-Ernst Merker'\": 1, \" 'Bernhard Klee'\": 1, \" 'Claude Dormoy'\": 1, \" 'German Staatsoper Berlin Choir\": 1, 'Donny Hathaway': 1})"
      ]
     },
     "execution_count": 9,
     "metadata": {},
     "output_type": "execute_result"
    }
   ],
   "source": [
    "%%time\n",
    "graph = artist_network(df_new, playlist, limit=20)\n",
    "graph.degree"
   ]
  },
  {
   "cell_type": "code",
   "execution_count": null,
   "metadata": {},
   "outputs": [],
   "source": []
  }
 ],
 "metadata": {
  "kernelspec": {
   "display_name": "Python 3.9.12 ('algodj')",
   "language": "python",
   "name": "python3"
  },
  "language_info": {
   "codemirror_mode": {
    "name": "ipython",
    "version": 3
   },
   "file_extension": ".py",
   "mimetype": "text/x-python",
   "name": "python",
   "nbconvert_exporter": "python",
   "pygments_lexer": "ipython3",
   "version": "3.9.12"
  },
  "orig_nbformat": 4,
  "vscode": {
   "interpreter": {
    "hash": "53b0d95acde196defb28d9b389033bf10cd11b8812ba6fb7728d8e863080651a"
   }
  }
 },
 "nbformat": 4,
 "nbformat_minor": 2
}
